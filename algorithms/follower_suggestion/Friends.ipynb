{
 "cells": [
  {
   "cell_type": "code",
   "execution_count": 1,
   "id": "literary-candidate",
   "metadata": {},
   "outputs": [],
   "source": [
    "import pandas as pd\n",
    "import numpy as np\n",
    "import networkx as nx"
   ]
  },
  {
   "cell_type": "code",
   "execution_count": 70,
   "id": "checked-defendant",
   "metadata": {},
   "outputs": [
    {
     "data": {
      "text/html": [
       "<div>\n",
       "<style scoped>\n",
       "    .dataframe tbody tr th:only-of-type {\n",
       "        vertical-align: middle;\n",
       "    }\n",
       "\n",
       "    .dataframe tbody tr th {\n",
       "        vertical-align: top;\n",
       "    }\n",
       "\n",
       "    .dataframe thead th {\n",
       "        text-align: right;\n",
       "    }\n",
       "</style>\n",
       "<table border=\"1\" class=\"dataframe\">\n",
       "  <thead>\n",
       "    <tr style=\"text-align: right;\">\n",
       "      <th></th>\n",
       "      <th>source_node</th>\n",
       "      <th>destination_node</th>\n",
       "    </tr>\n",
       "  </thead>\n",
       "  <tbody>\n",
       "    <tr>\n",
       "      <th>0</th>\n",
       "      <td>1</td>\n",
       "      <td>690569</td>\n",
       "    </tr>\n",
       "    <tr>\n",
       "      <th>1</th>\n",
       "      <td>1</td>\n",
       "      <td>315892</td>\n",
       "    </tr>\n",
       "    <tr>\n",
       "      <th>2</th>\n",
       "      <td>1</td>\n",
       "      <td>189226</td>\n",
       "    </tr>\n",
       "    <tr>\n",
       "      <th>3</th>\n",
       "      <td>2</td>\n",
       "      <td>834328</td>\n",
       "    </tr>\n",
       "    <tr>\n",
       "      <th>4</th>\n",
       "      <td>2</td>\n",
       "      <td>1615927</td>\n",
       "    </tr>\n",
       "  </tbody>\n",
       "</table>\n",
       "</div>"
      ],
      "text/plain": [
       "   source_node  destination_node\n",
       "0            1            690569\n",
       "1            1            315892\n",
       "2            1            189226\n",
       "3            2            834328\n",
       "4            2           1615927"
      ]
     },
     "execution_count": 70,
     "metadata": {},
     "output_type": "execute_result"
    }
   ],
   "source": [
    "data = pd.read_csv('train.csv')\n",
    "data.head()\n",
    "#data set here\n",
    "# https://drive.google.com/drive/folders/1pVhFmDjzftveFKPwTI8PjvB46g3WhP-8?usp=sharing"
   ]
  },
  {
   "cell_type": "code",
   "execution_count": 71,
   "id": "endless-moderator",
   "metadata": {},
   "outputs": [
    {
     "data": {
      "text/plain": [
       "9437519"
      ]
     },
     "execution_count": 71,
     "metadata": {},
     "output_type": "execute_result"
    }
   ],
   "source": [
    "len(data)"
   ]
  },
  {
   "cell_type": "code",
   "execution_count": 10,
   "id": "differential-zoning",
   "metadata": {},
   "outputs": [],
   "source": [
    "#taking first n points\n",
    "takennodes = 1000000\n",
    "#creating a directed graph\n",
    "Graphtype = nx.DiGraph()\n",
    "#add edges from a csv\n",
    "G = nx.from_pandas_edgelist(data.head(takennodes), source = 'source_node', target = 'destination_node', create_using=Graphtype)"
   ]
  },
  {
   "cell_type": "markdown",
   "id": "cardiac-baking",
   "metadata": {},
   "source": [
    "Use this to add one edge at a time\n",
    "https://networkx.org/documentation/stable/reference/classes/generated/networkx.DiGraph.add_edge.html\n",
    "\n",
    "YOu can add the corresponding edge to the undirected grapg which i am createing in next cell"
   ]
  },
  {
   "cell_type": "code",
   "execution_count": 11,
   "id": "adequate-infrastructure",
   "metadata": {},
   "outputs": [],
   "source": [
    "curr_user =1\n",
    "H = G.to_undirected()"
   ]
  },
  {
   "cell_type": "code",
   "execution_count": 68,
   "id": "sophisticated-spokesman",
   "metadata": {},
   "outputs": [],
   "source": [
    "def recommendor(Gr,curr_user,friends, k=3, alpha=0.7, rad = 3):\n",
    "    connects = list(nx.ego_graph(Gr, curr_user, radius=rad, undirected=False).nodes)\n",
    "    \n",
    "    connects.remove(curr_user)\n",
    "    connects = np.asarray(connects)\n",
    "    node_pair = [(curr_user, node) for node in connects]\n",
    "    users_score = np.zeros(len(node_pair))\n",
    "\n",
    "#     CCAP = nx.common_neighbor_centrality(Gr,node_pair)\n",
    "    AAI = nx.adamic_adar_index(Gr,node_pair)\n",
    "#     CCAP_score = np.asarray([nodescore[2] for nodescore in CCAP])\n",
    "\n",
    "    AAI_score = np.asarray([nodescore[2] for nodescore in AAI])\n",
    "\n",
    "    final_score = AAI_score\n",
    "    for i , node in enumerate(connects):\n",
    "        final_score+= np.log(len(final_score))/nx.shortest_path_length(H, curr_user,node)\n",
    "        if node in friends:\n",
    "            final_score[i]=0\n",
    "    if np.min(final_score)==np.max(final_score):\n",
    "        return np.random.choice(connects,replace=False, size = k)\n",
    "    # Insted of just choosing the top k best matches., let us sample from the distribution with the final scores as priors\n",
    "    p = final_score - np.min(final_score) \n",
    "    p/=np.sum(p)\n",
    "    return np.random.choice(connects, size = k,replace = False, p = p)    "
   ]
  },
  {
   "cell_type": "code",
   "execution_count": 69,
   "id": "sporting-anaheim",
   "metadata": {},
   "outputs": [],
   "source": [
    "userid = 1\n",
    "friends = {n for n in G.neighbors(userid)}\n",
    "\n",
    "# to get k recommendations for the user id = userid\n",
    "recommendation = recommendor(Gr = H,curr_user = userid,k = 10, rad=4, friends=friends)"
   ]
  },
  {
   "cell_type": "code",
   "execution_count": 50,
   "id": "recreational-auditor",
   "metadata": {},
   "outputs": [
    {
     "data": {
      "text/plain": [
       "{189226, 315892, 690569}"
      ]
     },
     "execution_count": 50,
     "metadata": {},
     "output_type": "execute_result"
    }
   ],
   "source": [
    "friends"
   ]
  },
  {
   "cell_type": "code",
   "execution_count": null,
   "id": "meaning-prediction",
   "metadata": {},
   "outputs": [],
   "source": []
  }
 ],
 "metadata": {
  "kernelspec": {
   "display_name": "Python 3",
   "language": "python",
   "name": "python3"
  },
  "language_info": {
   "codemirror_mode": {
    "name": "ipython",
    "version": 3
   },
   "file_extension": ".py",
   "mimetype": "text/x-python",
   "name": "python",
   "nbconvert_exporter": "python",
   "pygments_lexer": "ipython3",
   "version": "3.9.2"
  }
 },
 "nbformat": 4,
 "nbformat_minor": 5
}